{
  "nbformat": 4,
  "nbformat_minor": 0,
  "metadata": {
    "kernelspec": {
      "display_name": "Python 3",
      "language": "python",
      "name": "python3"
    },
    "language_info": {
      "codemirror_mode": {
        "name": "ipython",
        "version": 3
      },
      "file_extension": ".py",
      "mimetype": "text/x-python",
      "name": "python",
      "nbconvert_exporter": "python",
      "pygments_lexer": "ipython3",
      "version": "3.6.4"
    },
    "colab": {
      "name": "Gowtham_version1.ipynb",
      "provenance": [],
      "include_colab_link": true
    }
  },
  "cells": [
    {
      "cell_type": "markdown",
      "metadata": {
        "id": "view-in-github",
        "colab_type": "text"
      },
      "source": [
        "<a href=\"https://colab.research.google.com/github/smgowtham/bits-dsad-avltree/blob/master/Gowtham_version1.ipynb\" target=\"_parent\"><img src=\"https://colab.research.google.com/assets/colab-badge.svg\" alt=\"Open In Colab\"/></a>"
      ]
    },
    {
      "cell_type": "markdown",
      "metadata": {
        "id": "RVhEf_JRkn5I",
        "colab_type": "text"
      },
      "source": [
        "## 1) Import required libraries and the dataset"
      ]
    },
    {
      "cell_type": "code",
      "metadata": {
        "id": "sQ8Kqkf_kn5L",
        "colab_type": "code",
        "colab": {}
      },
      "source": [
        "import keras\n",
        "import tensorflow as tf\n",
        "import seaborn as sns\n",
        "tf.enable_eager_execution()\n",
        "from tensorflow.python.keras import regularizers\n",
        "from keras.layers.core import Dropout\n",
        "\n",
        "from tensorflow.python.keras import models\n",
        "from tensorflow.python.keras import layers\n",
        "\n",
        "import random\n",
        "import numpy as np\n",
        "import pandas as pd\n",
        "\n",
        "\n",
        "\n",
        "random.seed(21)         # Initialize the random number generator.\n",
        "np.random.seed(21)      # With the seed reset, the same set of numbers will appear every time. \n",
        "tf.set_random_seed(21)  # sets the graph-level random seed\n",
        "\n",
        "# Import mnsit handwriting dataset.\n",
        "mnist = tf.keras.datasets.mnist\n",
        "\n",
        "(Xtrain, Ytrain) , (Xtest, Ytest) = mnist.load_data()"
      ],
      "execution_count": 0,
      "outputs": []
    },
    {
      "cell_type": "markdown",
      "metadata": {
        "id": "44kQOlcimGZg",
        "colab_type": "text"
      },
      "source": [
        "# 2. Visualise a sample of dataset\n"
      ]
    },
    {
      "cell_type": "code",
      "metadata": {
        "id": "gCh3VBNJmJB5",
        "colab_type": "code",
        "outputId": "571f89ec-6458-44a2-aa3e-9cb964e979ba",
        "colab": {
          "base_uri": "https://localhost:8080/",
          "height": 384
        }
      },
      "source": [
        "# size of the datsets\n",
        "print(\"Size of the datasets:\")\n",
        "print(Xtrain.shape)\n",
        "print(Xtest.shape)\n",
        "print(Ytrain.shape)\n",
        "print(Ytest.shape)\n",
        "\n",
        "\n",
        "# print a sample data\n",
        "print(\"Printing sample data:\")\n",
        "from matplotlib import pyplot as plt\n",
        "%matplotlib inline\n",
        "\n",
        "plt.imshow(Xtrain[0], cmap='gray')\n",
        "print('Ytrain : ', Ytrain[0])\n"
      ],
      "execution_count": 0,
      "outputs": [
        {
          "output_type": "stream",
          "text": [
            "Size of the datasets:\n",
            "(60000, 28, 28)\n",
            "(10000, 28, 28)\n",
            "(60000,)\n",
            "(10000,)\n",
            "Printing sample data:\n",
            "Ytrain :  5\n"
          ],
          "name": "stdout"
        },
        {
          "output_type": "display_data",
          "data": {
            "image/png": "[encoded data removed]",
            "text/plain": [
              "<Figure size 432x288 with 1 Axes>"
            ]
          },
          "metadata": {
            "tags": []
          }
        }
      ]
    },
    {
      "cell_type": "markdown",
      "metadata": {
        "id": "afpbS16dmfph",
        "colab_type": "text"
      },
      "source": [
        "# 3. Data preprocessing\n"
      ]
    },
    {
      "cell_type": "code",
      "metadata": {
        "id": "72veTuCFkn50",
        "colab_type": "code",
        "outputId": "1f799015-0917-442c-cbce-a4805e7321a2",
        "colab": {
          "base_uri": "https://localhost:8080/",
          "height": 354
        }
      },
      "source": [
        "# Normalize the data\n",
        "# 60000 input images are in the train set.\n",
        "# 10000 input images are in the test set.\n",
        "\n",
        "Xtrain = Xtrain.reshape((60000, 28*28))    # reshape the input set to size 28*28. \n",
        "Xtrain = Xtrain.astype('float32')/255      # normalize to grayscale; set datatype as float32\n",
        "\n",
        "Xtest = Xtest.reshape((10000, 28*28))      # reshape the input set to size 28*28. \n",
        "Xtest = Xtest.astype('float32')/255        # normalize to grayscale; set datatype as float32\n",
        "\n",
        "Ytrain = tf.keras.utils.to_categorical(Ytrain)\n",
        "Ytest = tf.keras.utils.to_categorical(Ytest)\n",
        "\n",
        "print(Xtrain.shape)\n",
        "print(Xtest.shape)\n",
        "print(Ytrain.shape)\n",
        "print(Ytest.shape)\n",
        "\n",
        "# print an input data\n",
        "\n",
        "plt.imshow(Xtrain[1].reshape(28*28,1), cmap='gist_gray',aspect=0.005)\n",
        "print('Ytrain: ', Ytrain[0])"
      ],
      "execution_count": 0,
      "outputs": [
        {
          "output_type": "stream",
          "text": [
            "(60000, 784)\n",
            "(10000, 784)\n",
            "(60000, 10)\n",
            "(10000, 10)\n",
            "Ytrain:  [0. 0. 0. 0. 0. 1. 0. 0. 0. 0.]\n"
          ],
          "name": "stdout"
        },
        {
          "output_type": "display_data",
          "data": {
            "image/png": "[encoded data removed]",
            "text/plain": [
              "<Figure size 432x288 with 1 Axes>"
            ]
          },
          "metadata": {
            "tags": []
          }
        }
      ]
    },
    {
      "cell_type": "markdown",
      "metadata": {
        "id": "15jhuzQxkn5V",
        "colab_type": "text"
      },
      "source": [
        "# 4. Sequential Model Building with Activation for each layer"
      ]
    },
    {
      "cell_type": "code",
      "metadata": {
        "id": "SWpgDav9kn5c",
        "colab_type": "code",
        "outputId": "2300f6bc-04ce-4ce9-b533-5019882dc47d",
        "colab": {
          "base_uri": "https://localhost:8080/",
          "height": 255
        }
      },
      "source": [
        "dnnModel = models.Sequential()\n",
        "\n",
        "# specify the input size for in the hidden layer 1.\n",
        "\n",
        "dnnModel.add(layers.Dense(50, activation='relu', input_shape= (28*28,)))\n",
        "\n",
        "#Dropout to hidden layer 1\n",
        "dnnModel.add(layers.Dropout(0.25))\n",
        "\n",
        "\n",
        "# output layer\n",
        "dnnModel.add(layers.Dense(10, activation='softmax'))\n",
        "\n",
        "dnnModel.summary()"
      ],
      "execution_count": 0,
      "outputs": [
        {
          "output_type": "stream",
          "text": [
            "Model: \"sequential_2\"\n",
            "_________________________________________________________________\n",
            "Layer (type)                 Output Shape              Param #   \n",
            "=================================================================\n",
            "dense_4 (Dense)              (None, 50)                39250     \n",
            "_________________________________________________________________\n",
            "dropout_2 (Dropout)          (None, 50)                0         \n",
            "_________________________________________________________________\n",
            "dense_5 (Dense)              (None, 10)                510       \n",
            "=================================================================\n",
            "Total params: 39,760\n",
            "Trainable params: 39,760\n",
            "Non-trainable params: 0\n",
            "_________________________________________________________________\n"
          ],
          "name": "stdout"
        }
      ]
    },
    {
      "cell_type": "markdown",
      "metadata": {
        "id": "Hu3TEI0Rkn6D",
        "colab_type": "text"
      },
      "source": [
        "# 5. Compile with categorical CE loss and metric accuracy"
      ]
    },
    {
      "cell_type": "code",
      "metadata": {
        "id": "gWjTi3tikn5_",
        "colab_type": "code",
        "colab": {}
      },
      "source": [
        "# Configure  the model for training, by using appropriate optimizers \n",
        "# Available optimizer: adam, rmsprop, adagrad, sgd\n",
        "# loss:  objective that the model will try to minimize. \n",
        "# Available loss: categorical_crossentropy, binary_crossentropy, mean_squared_error\n",
        "# metrics: List of metrics to be evaluated by the model during training and testing. \n",
        "from tensorflow.python.keras.optimizers import adam\n",
        "opt = adam(lr=0.001) #lr of 1e-03\n",
        "dnnModel.compile(optimizer = opt,\n",
        "                 loss = 'categorical_crossentropy', \n",
        "                 metrics=['accuracy'] )"
      ],
      "execution_count": 0,
      "outputs": []
    },
    {
      "cell_type": "markdown",
      "metadata": {
        "id": "PHNufdPmnfpc",
        "colab_type": "text"
      },
      "source": [
        "# 6. Train Model with cross validation, with total time taken shown for 20 epochs\n"
      ]
    },
    {
      "cell_type": "code",
      "metadata": {
        "id": "LR7Yy6hdkn6F",
        "colab_type": "code",
        "outputId": "9b312be2-0c54-4101-af37-479cbed6bc9e",
        "colab": {
          "base_uri": "https://localhost:8080/",
          "height": 714
        }
      },
      "source": [
        "# train the model\n",
        "\n",
        "history = dnnModel.fit(Xtrain, Ytrain, epochs=20, batch_size=256)"
      ],
      "execution_count": 0,
      "outputs": [
        {
          "output_type": "stream",
          "text": [
            "Train on 60000 samples\n",
            "Epoch 1/20\n",
            "60000/60000 [==============================] - 1s 19us/sample - loss: 0.6932 - acc: 0.7974\n",
            "Epoch 2/20\n",
            "60000/60000 [==============================] - 1s 16us/sample - loss: 0.3392 - acc: 0.9020\n",
            "Epoch 3/20\n",
            "60000/60000 [==============================] - 1s 15us/sample - loss: 0.2831 - acc: 0.9181\n",
            "Epoch 4/20\n",
            "60000/60000 [==============================] - 1s 15us/sample - loss: 0.2466 - acc: 0.9283\n",
            "Epoch 5/20\n",
            "60000/60000 [==============================] - 1s 15us/sample - loss: 0.2225 - acc: 0.9352\n",
            "Epoch 6/20\n",
            "60000/60000 [==============================] - 1s 15us/sample - loss: 0.2024 - acc: 0.9406\n",
            "Epoch 7/20\n",
            "60000/60000 [==============================] - 1s 15us/sample - loss: 0.1899 - acc: 0.9449\n",
            "Epoch 8/20\n",
            "60000/60000 [==============================] - 1s 15us/sample - loss: 0.1783 - acc: 0.9470\n",
            "Epoch 9/20\n",
            "60000/60000 [==============================] - 1s 15us/sample - loss: 0.1710 - acc: 0.9493\n",
            "Epoch 10/20\n",
            "60000/60000 [==============================] - 1s 15us/sample - loss: 0.1630 - acc: 0.9513\n",
            "Epoch 11/20\n",
            "60000/60000 [==============================] - 1s 15us/sample - loss: 0.1562 - acc: 0.9527\n",
            "Epoch 12/20\n",
            "60000/60000 [==============================] - 1s 15us/sample - loss: 0.1513 - acc: 0.9547\n",
            "Epoch 13/20\n",
            "60000/60000 [==============================] - 1s 15us/sample - loss: 0.1466 - acc: 0.9546\n",
            "Epoch 14/20\n",
            "60000/60000 [==============================] - 1s 16us/sample - loss: 0.1404 - acc: 0.9578\n",
            "Epoch 15/20\n",
            "60000/60000 [==============================] - 1s 16us/sample - loss: 0.1355 - acc: 0.9587\n",
            "Epoch 16/20\n",
            "60000/60000 [==============================] - 1s 15us/sample - loss: 0.1340 - acc: 0.9591\n",
            "Epoch 17/20\n",
            "60000/60000 [==============================] - 1s 16us/sample - loss: 0.1290 - acc: 0.9605\n",
            "Epoch 18/20\n",
            "60000/60000 [==============================] - 1s 15us/sample - loss: 0.1240 - acc: 0.9618\n",
            "Epoch 19/20\n",
            "60000/60000 [==============================] - 1s 15us/sample - loss: 0.1216 - acc: 0.9623\n",
            "Epoch 20/20\n",
            "60000/60000 [==============================] - 1s 16us/sample - loss: 0.1186 - acc: 0.9628\n"
          ],
          "name": "stdout"
        }
      ]
    },
    {
      "cell_type": "markdown",
      "metadata": {
        "id": "FmKEu97Tkn6K",
        "colab_type": "text"
      },
      "source": [
        "# 7. Visualise Loss and Accuracy history"
      ]
    },
    {
      "cell_type": "code",
      "metadata": {
        "id": "koSYlrdTkn6L",
        "colab_type": "code",
        "outputId": "b289dc8d-baf4-4131-ac0d-77e2f425f429",
        "colab": {
          "base_uri": "https://localhost:8080/",
          "height": 34
        }
      },
      "source": [
        "print(history.history.keys())"
      ],
      "execution_count": 0,
      "outputs": [
        {
          "output_type": "stream",
          "text": [
            "dict_keys(['loss', 'acc'])\n"
          ],
          "name": "stdout"
        }
      ]
    },
    {
      "cell_type": "code",
      "metadata": {
        "id": "sHoDwcPIkn6Q",
        "colab_type": "code",
        "outputId": "60c3d00e-61cd-49b7-a60a-f84a559ca9e8",
        "colab": {
          "base_uri": "https://localhost:8080/",
          "height": 295
        }
      },
      "source": [
        "# summarize history for accuracy\n",
        "plt.plot(history.history['acc'])\n",
        "plt.title('model accuracy')\n",
        "plt.ylabel('accuracy')\n",
        "plt.xlabel('epoch')\n",
        "plt.legend(['test'], loc='upper left')\n",
        "plt.show()"
      ],
      "execution_count": 0,
      "outputs": [
        {
          "output_type": "display_data",
          "data": {
            "image/png": "[encoded data removed]",
            "text/plain": [
              "<Figure size 432x288 with 1 Axes>"
            ]
          },
          "metadata": {
            "tags": []
          }
        }
      ]
    },
    {
      "cell_type": "code",
      "metadata": {
        "id": "8y4t9kdOkn6U",
        "colab_type": "code",
        "outputId": "ab67c3e3-f176-4270-d059-1dbc6bdda3c2",
        "colab": {
          "base_uri": "https://localhost:8080/",
          "height": 295
        }
      },
      "source": [
        "# summarize history for loss\n",
        "plt.plot(history.history['loss'])\n",
        "plt.title('model loss')\n",
        "plt.ylabel('loss')\n",
        "plt.xlabel('epoch')\n",
        "plt.legend(['test'], loc='upper left')\n",
        "plt.show()"
      ],
      "execution_count": 0,
      "outputs": [
        {
          "output_type": "display_data",
          "data": {
            "image/png": "[encoded data removed]",
            "text/plain": [
              "<Figure size 432x288 with 1 Axes>"
            ]
          },
          "metadata": {
            "tags": []
          }
        }
      ]
    },
    {
      "cell_type": "code",
      "metadata": {
        "id": "t7PCrxwTnseV",
        "colab_type": "code",
        "colab": {}
      },
      "source": [
        ""
      ],
      "execution_count": 0,
      "outputs": []
    },
    {
      "cell_type": "markdown",
      "metadata": {
        "id": "GmJBtZrtnpnt",
        "colab_type": "text"
      },
      "source": [
        "# 8. Show Confusion Matrix for validation dataset\n"
      ]
    },
    {
      "cell_type": "code",
      "metadata": {
        "id": "-q6CopkOnq8j",
        "colab_type": "code",
        "outputId": "3e8eb48e-e7f1-49bb-a035-df7b814a2e11",
        "colab": {
          "base_uri": "https://localhost:8080/",
          "height": 633
        }
      },
      "source": [
        "# Print confusion matrix\n",
        "classes=[0,1,2,3,4,5,6,7,8,9]\n",
        "YPred=dnnModel.predict_classes(Xtest)\n",
        "print(YPred.shape)\n",
        "print(Ytest.shape)\n",
        "conf_mat = tf.math.confusion_matrix(labels=tf.argmax( Ytest, 1 ), predictions=YPred).numpy()\n",
        "\n",
        "conf_mat_norm = np.around(conf_mat.astype('float') / conf_mat.sum(axis=1)[:, np.newaxis], decimals=2)\n",
        " \n",
        "conf_mat_df = pd.DataFrame(conf_mat_norm,\n",
        "                     index = classes, \n",
        "                     columns = classes)\n",
        "\n",
        "\n",
        "figure = plt.figure(figsize=(8, 8))\n",
        "sns.heatmap(conf_mat_df, annot=True,cmap=plt.cm.Blues)\n",
        "plt.tight_layout()\n",
        "plt.ylabel('True label')\n",
        "plt.xlabel('Predicted label')\n",
        "plt.show()"
      ],
      "execution_count": 0,
      "outputs": [
        {
          "output_type": "stream",
          "text": [
            "(10000,)\n",
            "(10000, 10)\n"
          ],
          "name": "stdout"
        },
        {
          "output_type": "display_data",
          "data": {
            "image/png": "[encoded data removed]",
            "text/plain": [
              "<Figure size 576x576 with 2 Axes>"
            ]
          },
          "metadata": {
            "tags": []
          }
        }
      ]
    },
    {
      "cell_type": "code",
      "metadata": {
        "id": "mpESW8rd5msr",
        "colab_type": "code",
        "colab": {}
      },
      "source": [
        ""
      ],
      "execution_count": 0,
      "outputs": []
    }
  ]
}